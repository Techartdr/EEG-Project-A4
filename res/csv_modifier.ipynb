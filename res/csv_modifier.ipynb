{
 "cells": [
  {
   "cell_type": "code",
   "execution_count": 1,
   "metadata": {},
   "outputs": [],
   "source": [
    "import pandas as pd"
   ]
  },
  {
   "cell_type": "code",
   "execution_count": 10,
   "metadata": {},
   "outputs": [
    {
     "name": "stdout",
     "output_type": "stream",
     "text": [
      "       TP9      AF7      AF8   TP10\n",
      "0   -0.488    0.000    0.000 -0.488\n",
      "1    0.488   -1.465   -3.418  0.000\n",
      "2   13.184  -24.414   27.344  0.977\n",
      "3  -46.387   49.316  -94.238 -1.953\n",
      "4  182.617 -328.125  356.445  9.277\n"
     ]
    }
   ],
   "source": [
    "df = pd.read_csv(\"./recording_2024-11-21-15.33.12.csv\")\n",
    "df = df.drop([df.columns[0], 'Right AUX', 'timestamps'], axis=1)\n",
    "print(df.head())"
   ]
  },
  {
   "cell_type": "code",
   "execution_count": 11,
   "metadata": {},
   "outputs": [],
   "source": [
    "df.to_csv(\"./recording_2024-11-21-15.33.12-v2.csv\", index=False)"
   ]
  }
 ],
 "metadata": {
  "kernelspec": {
   "display_name": "Python 3",
   "language": "python",
   "name": "python3"
  },
  "language_info": {
   "codemirror_mode": {
    "name": "ipython",
    "version": 3
   },
   "file_extension": ".py",
   "mimetype": "text/x-python",
   "name": "python",
   "nbconvert_exporter": "python",
   "pygments_lexer": "ipython3",
   "version": "3.13.0"
  }
 },
 "nbformat": 4,
 "nbformat_minor": 2
}
